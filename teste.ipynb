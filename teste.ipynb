{
 "cells": [
  {
   "cell_type": "markdown",
   "metadata": {},
   "source": []
  },
  {
   "cell_type": "code",
   "execution_count": 12,
   "metadata": {},
   "outputs": [
    {
     "name": "stdout",
     "output_type": "stream",
     "text": [
      "1702844191.23963\n",
      "tempo final 2.01 segundos\n"
     ]
    }
   ],
   "source": [
    "import redis\n",
    "import time\n",
    "rd = redis.Redis(\"127.0.0.1\")\n",
    "inicio = time.time()\n",
    "rd.set(\"inicio\", inicio)\n",
    "time.sleep(2)\n",
    "del inicio\n",
    "inicio = float(rd.get(\"inicio\").decode(\"utf-8\"))\n",
    "print(inicio)\n",
    "final = time.time() - inicio\n",
    "print (f\"tempo final {final:.2f} segundos\")\n"
   ]
  }
 ],
 "metadata": {
  "kernelspec": {
   "display_name": "env",
   "language": "python",
   "name": "python3"
  },
  "language_info": {
   "codemirror_mode": {
    "name": "ipython",
    "version": 3
   },
   "file_extension": ".py",
   "mimetype": "text/x-python",
   "name": "python",
   "nbconvert_exporter": "python",
   "pygments_lexer": "ipython3",
   "version": "3.9.15"
  }
 },
 "nbformat": 4,
 "nbformat_minor": 2
}
